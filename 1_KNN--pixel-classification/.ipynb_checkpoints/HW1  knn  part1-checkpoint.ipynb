{
 "cells": [
  {
   "cell_type": "code",
   "execution_count": 41,
   "metadata": {
    "ExecuteTime": {
     "end_time": "2018-02-22T21:05:42.440325Z",
     "start_time": "2018-02-22T21:05:41.506414Z"
    },
    "collapsed": true
   },
   "outputs": [],
   "source": [
    "from scipy import stats\n",
    "import numpy as np\n",
    "import seaborn as sns\n",
    "import matplotlib.pyplot as plt\n",
    "import math\n",
    "import random\n",
    "\n",
    "# #Log knn\n",
    "# import seaborn as sns\n",
    "# from sklearn.neighbors import KNeighborsClassifier\n",
    "# from sklearn.model_selection import GridSearchCV\n",
    "# from sklearn.cross_validation import train_test_split "
   ]
  },
  {
   "cell_type": "code",
   "execution_count": 42,
   "metadata": {
    "collapsed": true
   },
   "outputs": [],
   "source": [
    "# 1  import data \n",
    "X_and_Y_train  = np.loadtxt('data/pa1train.txt', delimiter=' ')"
   ]
  },
  {
   "cell_type": "code",
   "execution_count": 52,
   "metadata": {
    "ExecuteTime": {
     "end_time": "2018-02-22T21:05:42.452388Z",
     "start_time": "2018-02-22T21:05:42.442874Z"
    },
    "scrolled": true
   },
   "outputs": [
    {
     "name": "stdout",
     "output_type": "stream",
     "text": [
      "X_and_Y_train is (2000, 785)\n",
      "X_train is (2000, 784)\n",
      "Y_train is (2000,) \n",
      "\n",
      "X_and_Y_val is (1000, 785)\n",
      "X_val is (1000, 784)\n",
      "Y_val is (1000,) \n",
      "\n",
      "X_and_Y_test is (1000, 785)\n",
      "X_test is (1000, 784)\n",
      "Y_test is (1000,)\n"
     ]
    }
   ],
   "source": [
    "X_train = X_and_Y_train[:2000,:784] \n",
    "Y_train = X_and_Y_train[:2000,784] \n",
    "print \"X_and_Y_train is\",X_and_Y_train.shape\n",
    "print \"X_train is\", X_train.shape\n",
    "print \"Y_train is\", Y_train.shape,\"\\n\"\n",
    "\n",
    "X_and_Y_val = np.loadtxt('data/pa1validate.txt', delimiter=' ')\n",
    "X_val = X_and_Y_val[:,:784]  \n",
    "Y_val = X_and_Y_val[:,784]   \n",
    "!\n",
    "print \"X_and_Y_val is\",X_and_Y_val.shape\n",
    "print \"X_val is\", X_val.shape\n",
    "print \"Y_val is\", Y_val.shape,\"\\n\"\n",
    "\n",
    "\n",
    "X_and_Y_test = np.loadtxt('data/pa1test.txt', delimiter=' ')\n",
    "X_test = X_and_Y_test[:,:784] \n",
    "Y_test = X_and_Y_test[:,784] \n",
    "print \"X_and_Y_test is\",X_and_Y_test.shape\n",
    "print \"X_test is\", X_test.shape\n",
    "print \"Y_test is\", Y_test.shape"
   ]
  },
  {
   "cell_type": "code",
   "execution_count": 53,
   "metadata": {
    "ExecuteTime": {
     "end_time": "2018-02-22T21:05:42.491013Z",
     "start_time": "2018-02-22T21:05:42.465003Z"
    },
    "collapsed": true
   },
   "outputs": [],
   "source": [
    "# 2) Implement the k-NN.\n",
    "class KNeighborsClassifier(object):\n",
    "    def __init__(self, k):\n",
    "        self.k = k\n",
    "        \n",
    "    def fit(self, X_train, Y_train):\n",
    "        self.X_train = X_train\n",
    "        self.Y_train = Y_train\n",
    "        \n",
    "    def predict(self,X_pred, Y_actual):\n",
    "\n",
    "        correctness = 0\n",
    "        \n",
    "        #iterate all points in X_pred \n",
    "        for i in range(len(X_pred)):\n",
    "\n",
    "            distance_list = []\n",
    "\n",
    "            #iterate all training data to calculate distance to the test data\n",
    "            for j in range(self.X_train.shape[0]): \n",
    "                distance_list.append(math.sqrt(sum ((X_pred[i]-self.X_train[j])**2)))\n",
    "\n",
    "\n",
    "            #combine the distance list and Y_train label list AND sort by distance\n",
    "            comb_list = np.column_stack((np.array(distance_list), self.Y_train))     \n",
    "            sorted_index_list = np.argsort(comb_list[:,0])\n",
    "            comb_list = comb_list[sorted_index_list]\n",
    "\n",
    "            # pick the most popular label in the closest k points  \n",
    "            # if more than one mode, pick one randomly \n",
    "            random.shuffle(comb_list[:self.k,1])\n",
    "            mode,_ = stats.mode(comb_list[:self.k,1])\n",
    "\n",
    "            # compare label and see if predict correctly             \n",
    "            if (mode[0] == Y_actual[i]):\n",
    "                correctness = correctness + 1  \n",
    "\n",
    "        print \"correctness\",correctness\n",
    "        print \"Y_actual.shape[0]\",Y_actual.shape[0]\n",
    "        return correctness*1.0/Y_actual.shape[0]"
   ]
  },
  {
   "cell_type": "code",
   "execution_count": 54,
   "metadata": {
    "ExecuteTime": {
     "end_time": "2018-02-22T21:05:42.536639Z",
     "start_time": "2018-02-22T21:05:42.527402Z"
    },
    "collapsed": true
   },
   "outputs": [],
   "source": [
    "# 3) Implement the grid search function.\n",
    "\n",
    "def GridSearch(X_train, Y_train, X_val, Y_val, k_list):\n",
    "    \n",
    "    train_acc_list = []\n",
    "    val_acc_list = []\n",
    "    \n",
    "    for k in range (len(k_list)):\n",
    "\n",
    "        classifier = KNeighborsClassifier(k=k_list[k])\n",
    "\n",
    "        classifier.fit(X_train,Y_train)\n",
    "\n",
    "        train_acc = classifier.predict(X_train,Y_train)\n",
    "        train_acc_list.append(train_acc)\n",
    "        print \"training accuracy for k=\",k_list[k],\" is:\", train_acc\n",
    "        print \"training error for k=\",k_list[k],\" is:\", (1-train_acc)\n",
    "\n",
    "        val_acc = classifier.predict(X_val,Y_val)\n",
    "        val_acc_list.append(val_acc)\n",
    "        print \"validation accuracy k=\",k_list[k],\"is:\", val_acc\n",
    "        print \"validation error k=\",k_list[k],\"is:\", 1-val_acc\n",
    "\n",
    "    return train_acc_list,val_acc_list"
   ]
  },
  {
   "cell_type": "code",
   "execution_count": 55,
   "metadata": {
    "ExecuteTime": {
     "end_time": "2018-02-22T21:05:44.426219Z",
     "start_time": "2018-02-22T21:05:42.540090Z"
    }
   },
   "outputs": [
    {
     "name": "stdout",
     "output_type": "stream",
     "text": [
      "correctness 2000\n",
      "Y_actual.shape[0] 2000\n",
      "training accuracy for k= 1  is: 1.0\n",
      "training error for k= 1  is: 0.0\n",
      "correctness 918\n",
      "Y_actual.shape[0] 1000\n",
      "validation accuracy k= 1 is: 0.918\n",
      "validation error k= 1 is: 0.082\n",
      "correctness 1913\n",
      "Y_actual.shape[0] 2000\n",
      "training accuracy for k= 3  is: 0.9565\n",
      "training error for k= 3  is: 0.0435\n",
      "correctness 902\n",
      "Y_actual.shape[0] 1000\n",
      "validation accuracy k= 3 is: 0.902\n",
      "validation error k= 3 is: 0.098\n",
      "correctness 1887\n",
      "Y_actual.shape[0] 2000\n",
      "training accuracy for k= 5  is: 0.9435\n",
      "training error for k= 5  is: 0.0565\n",
      "correctness 905\n",
      "Y_actual.shape[0] 1000\n",
      "validation accuracy k= 5 is: 0.905\n",
      "validation error k= 5 is: 0.095\n",
      "correctness 1863\n",
      "Y_actual.shape[0] 2000\n",
      "training accuracy for k= 9  is: 0.9315\n",
      "training error for k= 9  is: 0.0685\n",
      "correctness 896\n",
      "Y_actual.shape[0] 1000\n",
      "validation accuracy k= 9 is: 0.896\n",
      "validation error k= 9 is: 0.104\n",
      "correctness 1815\n",
      "Y_actual.shape[0] 2000\n",
      "training accuracy for k= 15  is: 0.9075\n",
      "training error for k= 15  is: 0.0925\n",
      "correctness 892\n",
      "Y_actual.shape[0] 1000\n",
      "validation accuracy k= 15 is: 0.892\n",
      "validation error k= 15 is: 0.108\n"
     ]
    }
   ],
   "source": [
    "# 4) Perform grid search.\n",
    "\n",
    "k_list = [1,3,5,9,15]\n",
    "train_acc_list, val_acc_list = GridSearch(X_train,Y_train,X_val,Y_val,k_list)"
   ]
  },
  {
   "cell_type": "code",
   "execution_count": 68,
   "metadata": {
    "ExecuteTime": {
     "end_time": "2018-02-22T21:05:44.450430Z",
     "start_time": "2018-02-22T21:05:44.429032Z"
    }
   },
   "outputs": [
    {
     "data": {
      "image/png": "[encoded data removed]",
      "text/plain": [
       "<matplotlib.figure.Figure at 0x20168d4e90>"
      ]
     },
     "metadata": {},
     "output_type": "display_data"
    },
    {
     "data": {
      "image/png": "[encoded data removed]",
      "text/plain": [
       "<matplotlib.figure.Figure at 0x20168d4090>"
      ]
     },
     "metadata": {},
     "output_type": "display_data"
    }
   ],
   "source": [
    "# 5) Draw heatmaps for result of grid search and find best k on validation set\n",
    "    \n",
    "def draw_heatmap_knn(acc, acc_desc, k_list):\n",
    "    plt.figure(figsize = (2,4))\n",
    "    ax = sns.heatmap(acc, annot=True, fmt='.3f', yticklabels=k_list, xticklabels=[])\n",
    "    ax.collections[0].colorbar.set_label(\"accuracy\")\n",
    "    ax.set(ylabel='$k$')\n",
    "    plt.title(acc_desc + ' w.r.t $k$')\n",
    "    sns.set_style(\"whitegrid\", {'axes.grid' : False})\n",
    "    plt.show()\n",
    "train = np.asarray(train_acc_list).reshape(-1,1)\n",
    "val = np.asarray(val_acc_list).reshape(-1,1)\n",
    "draw_heatmap_knn(train, 'train accuracy', k_list)\n",
    "draw_heatmap_knn(val, 'val accuracy', k_list)"
   ]
  },
  {
   "cell_type": "code",
   "execution_count": 72,
   "metadata": {},
   "outputs": [
    {
     "name": "stdout",
     "output_type": "stream",
     "text": [
      "Best k* is 1\n",
      "with validation accuracy  [ 0.918]\n"
     ]
    }
   ],
   "source": [
    "# 5) output best k \n",
    "best_acc = max(val)\n",
    "best_k = k_list[list(val_acc_list).index(best_acc)]\n",
    "print \"Best k* is\", best_k \n",
    "print \"with validation accuracy \",best_acc"
   ]
  },
  {
   "cell_type": "code",
   "execution_count": 1,
   "metadata": {
    "ExecuteTime": {
     "end_time": "2018-02-22T21:05:45.244683Z",
     "start_time": "2018-02-22T21:05:45.197145Z"
    }
   },
   "outputs": [
    {
     "ename": "NameError",
     "evalue": "name 'KNeighborsClassifier' is not defined",
     "output_type": "error",
     "traceback": [
      "\u001b[0;31m---------------------------------------------------------------------------\u001b[0m",
      "\u001b[0;31mNameError\u001b[0m                                 Traceback (most recent call last)",
      "\u001b[0;32m<ipython-input-1-a40872dbc05e>\u001b[0m in \u001b[0;36m<module>\u001b[0;34m()\u001b[0m\n\u001b[1;32m      1\u001b[0m \u001b[0;31m# 8) Use the best k to calculate the test accuracy.\u001b[0m\u001b[0;34m\u001b[0m\u001b[0;34m\u001b[0m\u001b[0m\n\u001b[1;32m      2\u001b[0m \u001b[0;34m\u001b[0m\u001b[0m\n\u001b[0;32m----> 3\u001b[0;31m \u001b[0mclassifier\u001b[0m \u001b[0;34m=\u001b[0m \u001b[0mKNeighborsClassifier\u001b[0m\u001b[0;34m(\u001b[0m\u001b[0mk\u001b[0m\u001b[0;34m=\u001b[0m\u001b[0mbest_k\u001b[0m\u001b[0;34m)\u001b[0m\u001b[0;34m\u001b[0m\u001b[0m\n\u001b[0m\u001b[1;32m      4\u001b[0m \u001b[0;34m\u001b[0m\u001b[0m\n\u001b[1;32m      5\u001b[0m \u001b[0;31m#train the classifier with training data\u001b[0m\u001b[0;34m\u001b[0m\u001b[0;34m\u001b[0m\u001b[0m\n",
      "\u001b[0;31mNameError\u001b[0m: name 'KNeighborsClassifier' is not defined"
     ]
    }
   ],
   "source": [
    "# 8) Use the best k to calculate the test accuracy.\n",
    "\n",
    "classifier = KNeighborsClassifier(k=best_k)\n",
    "\n",
    "#train the classifier with training data\n",
    "classifier.fit(X_train, Y_train)\n",
    "\n",
    "# calculate the test accuracy.\n",
    "test_acc = classifier.predict(X_test,Y_test)\n",
    "\n",
    "print (\"test accuracy with best k is \",test_acc)\n",
    "print (\"test error with best k is \",1-test_acc)"
   ]
  },
  {
   "cell_type": "code",
   "execution_count": null,
   "metadata": {
    "collapsed": true
   },
   "outputs": [],
   "source": []
  }
 ],
 "metadata": {
  "kernelspec": {
   "display_name": "Python 2",
   "language": "python",
   "name": "python2"
  },
  "language_info": {
   "codemirror_mode": {
    "name": "ipython",
    "version": 2
   },
   "file_extension": ".py",
   "mimetype": "text/x-python",
   "name": "python",
   "nbconvert_exporter": "python",
   "pygments_lexer": "ipython2",
   "version": "2.7.13"
  },
  "toc": {
   "colors": {
    "hover_highlight": "#DAA520",
    "navigate_num": "#000000",
    "navigate_text": "#333333",
    "running_highlight": "#FF0000",
    "selected_highlight": "#FFD700",
    "sidebar_border": "#EEEEEE",
    "wrapper_background": "#FFFFFF"
   },
   "moveMenuLeft": true,
   "nav_menu": {
    "height": "63px",
    "width": "252px"
   },
   "navigate_menu": true,
   "number_sections": true,
   "sideBar": true,
   "threshold": 4,
   "toc_cell": false,
   "toc_section_display": "block",
   "toc_window_display": false,
   "widenNotebook": false
  }
 },
 "nbformat": 4,
 "nbformat_minor": 2
}
