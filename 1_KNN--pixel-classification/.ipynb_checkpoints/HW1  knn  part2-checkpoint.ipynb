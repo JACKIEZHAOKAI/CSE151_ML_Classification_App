{
 "cells": [
  {
   "cell_type": "code",
   "execution_count": 27,
   "metadata": {
    "ExecuteTime": {
     "end_time": "2018-02-22T21:05:42.440325Z",
     "start_time": "2018-02-22T21:05:41.506414Z"
    },
    "collapsed": true
   },
   "outputs": [],
   "source": [
    "from scipy import stats\n",
    "import numpy as np\n",
    "import seaborn as sns\n",
    "import matplotlib.pyplot as plt\n",
    "import math\n",
    "import random\n",
    "import timeit"
   ]
  },
  {
   "cell_type": "code",
   "execution_count": 28,
   "metadata": {
    "ExecuteTime": {
     "end_time": "2018-02-22T21:05:42.452388Z",
     "start_time": "2018-02-22T21:05:42.442874Z"
    },
    "scrolled": true
   },
   "outputs": [
    {
     "name": "stdout",
     "output_type": "stream",
     "text": [
      "X_proj is (784, 20)\n",
      "X_and_Y_train is (2000, 785)\n",
      "X_train is (2000, 784)\n",
      "Y_train is (2000,) \n",
      "\n",
      "X_and_Y_val is (1000, 785)\n",
      "X_val is (1000, 784)\n",
      "Y_val is (1000,) \n",
      "\n",
      "X_and_Y_test is (1000, 785)\n",
      "X_test is (1000, 784)\n",
      "Y_test is (1000,)\n"
     ]
    }
   ],
   "source": [
    "# 1  import data \n",
    "X_proj = np.loadtxt('data/projection.txt', delimiter=' ')\n",
    "print \"X_proj is\",X_proj.shape\n",
    "\n",
    "X_and_Y_train  = np.loadtxt('data/pa1train.txt', delimiter=' ')\n",
    "X_and_Y_train =  X_and_Y_train*X_proj\n",
    "X_train = X_and_Y_train[:2000,:784] \n",
    "Y_train = X_and_Y_train[:2000,784] \n",
    "print \"X_and_Y_train is\",X_and_Y_train.shape\n",
    "print \"X_train is\", X_train.shape\n",
    "print \"Y_train is\", Y_train.shape,\"\\n\"\n",
    "\n",
    "X_and_Y_val = np.loadtxt('data/pa1validate.txt', delimiter=' ')\n",
    "X_and_Y_val =  X_and_Y_val*X_proj\n",
    "X_val = X_and_Y_val[:,:784]  \n",
    "Y_val = X_and_Y_val[:,784]   \n",
    "print \"X_and_Y_val is\",X_and_Y_val.shape\n",
    "print \"X_val is\", X_val.shape\n",
    "print \"Y_val is\", Y_val.shape,\"\\n\"\n",
    "\n",
    "\n",
    "X_and_Y_test = np.loadtxt('data/pa1test.txt', delimiter=' ')\n",
    "X_test = X_and_Y_test[:,:784] \n",
    "Y_test = X_and_Y_test[:,784] \n",
    "print \"X_and_Y_test is\",X_and_Y_test.shape\n",
    "print \"X_test is\", X_test.shape\n",
    "print \"Y_test is\", Y_test.shape"
   ]
  },
  {
   "cell_type": "code",
   "execution_count": 30,
   "metadata": {},
   "outputs": [
    {
     "name": "stdout",
     "output_type": "stream",
     "text": [
      "(2000, 20)\n",
      "(1000, 20)\n",
      "(1000, 20)\n"
     ]
    }
   ],
   "source": [
    "#  data compression\n",
    "#  project training, validation, testing data onto the column space of X_and_Y_proj\n",
    "#  proj()\n",
    "\n",
    "X_train_proj = np.dot(X_train, X_proj)\n",
    "print X_train_proj.shape\n",
    "\n",
    "X_val_proj = np.dot(X_val, X_proj)\n",
    "print X_val_proj.shape\n",
    "\n",
    "X_test_proj = np.dot(X_test, X_proj)\n",
    "print X_test_proj.shape\n"
   ]
  },
  {
   "cell_type": "code",
   "execution_count": 31,
   "metadata": {
    "ExecuteTime": {
     "end_time": "2018-02-22T21:05:42.491013Z",
     "start_time": "2018-02-22T21:05:42.465003Z"
    },
    "collapsed": true
   },
   "outputs": [],
   "source": [
    "# 2) Implement the k-NN.\n",
    "class KNeighborsClassifier(object):\n",
    "    def __init__(self, k):\n",
    "        self.k = k\n",
    "        \n",
    "    def fit(self, X_train, Y_train):\n",
    "        self.X_train = X_train\n",
    "        self.Y_train = Y_train\n",
    "        \n",
    "    def predict(self,X_pred, Y_actual):\n",
    "\n",
    "        correctness = 0\n",
    "        \n",
    "        #iterate all points in X_pred \n",
    "        for i in range(len(X_pred)):\n",
    "\n",
    "            distance_list = []\n",
    "\n",
    "            #iterate all training data to calculate distance to the test data\n",
    "            for j in range(self.X_train.shape[0]): \n",
    "                distance_list.append(math.sqrt(sum ((X_pred[i]-self.X_train[j])**2)))\n",
    "\n",
    "\n",
    "            #combine the distance list and Y_train label list AND sort by distance\n",
    "            comb_list = np.column_stack((np.array(distance_list), self.Y_train))     \n",
    "            sorted_index_list = np.argsort(comb_list[:,0])\n",
    "            comb_list = comb_list[sorted_index_list]\n",
    "\n",
    "            # pick the most popular label in the closest k points  \n",
    "            # if more than one mode, pick one randomly \n",
    "            random.shuffle(comb_list[:self.k,1])\n",
    "            mode,_ = stats.mode(comb_list[:self.k,1])\n",
    "\n",
    "            # compare label and see if predict correctly             \n",
    "            if (mode[0] == Y_actual[i]):\n",
    "                correctness = correctness + 1  \n",
    "\n",
    "        return correctness*1.0/Y_actual.shape[0]"
   ]
  },
  {
   "cell_type": "code",
   "execution_count": 33,
   "metadata": {
    "ExecuteTime": {
     "end_time": "2018-02-22T21:05:42.536639Z",
     "start_time": "2018-02-22T21:05:42.527402Z"
    },
    "collapsed": true
   },
   "outputs": [],
   "source": [
    "# 3) Implement the grid search function.\n",
    "\n",
    "def GridSearch(X_train, Y_train, X_val, Y_val, k_list):\n",
    "    \n",
    "    train_acc_list = []\n",
    "    val_acc_list = []\n",
    "    \n",
    "    for k in range (len(k_list)):\n",
    "   \n",
    "        classifier = KNeighborsClassifier(k=k_list[k])\n",
    "\n",
    "        classifier.fit(X_train,Y_train)\n",
    "\n",
    "        train_acc = classifier.predict(X_train,Y_train)\n",
    "        train_acc_list.append(train_acc)\n",
    "        print \"training accuracy for k=\",k_list[k],\" is:\", train_acc\n",
    "        print \"training error for k=\",k_list[k],\" is:\", (1-train_acc)\n",
    "\n",
    "        val_acc = classifier.predict(X_val,Y_val)\n",
    "        val_acc_list.append(val_acc)\n",
    "        print \"validation accuracy k=\",k_list[k],\"is:\", val_acc\n",
    "        print \"validation error k=\",k_list[k],\"is:\", 1-val_acc\n",
    "\n",
    "    return train_acc_list,val_acc_list"
   ]
  },
  {
   "cell_type": "code",
   "execution_count": 34,
   "metadata": {
    "ExecuteTime": {
     "end_time": "2018-02-22T21:05:44.426219Z",
     "start_time": "2018-02-22T21:05:42.540090Z"
    },
    "scrolled": true
   },
   "outputs": [
    {
     "name": "stdout",
     "output_type": "stream",
     "text": [
      "training accuracy for k= 1  is: 1.0\n",
      "training error for k= 1  is: 0.0\n",
      "validation accuracy k= 1 is: 0.68\n",
      "validation error k= 1 is: 0.32\n",
      "training accuracy for k= 3  is: 0.8395\n",
      "training error for k= 3  is: 0.1605\n",
      "validation accuracy k= 3 is: 0.69\n",
      "validation error k= 3 is: 0.31\n",
      "training accuracy for k= 5  is: 0.8055\n",
      "training error for k= 5  is: 0.1945\n",
      "validation accuracy k= 5 is: 0.701\n",
      "validation error k= 5 is: 0.299\n",
      "training accuracy for k= 9  is: 0.7695\n",
      "training error for k= 9  is: 0.2305\n",
      "validation accuracy k= 9 is: 0.698\n",
      "validation error k= 9 is: 0.302\n",
      "training accuracy for k= 15  is: 0.743\n",
      "training error for k= 15  is: 0.257\n",
      "validation accuracy k= 15 is: 0.711\n",
      "validation error k= 15 is: 0.289\n",
      "time performance is  -0.0350227355957\n"
     ]
    }
   ],
   "source": [
    "# 4) Perform grid search.\n",
    "\n",
    "start = timeit.timeit()\n",
    "\n",
    "k_list = [1,3,5,9,15]\n",
    "train_acc_list, val_acc_list = GridSearch(X_train_proj,Y_train,X_val_proj,Y_val,k_list)\n",
    "\n",
    "end = timeit.timeit()\n",
    "print \"time performance is \", end - start"
   ]
  },
  {
   "cell_type": "code",
   "execution_count": 35,
   "metadata": {
    "ExecuteTime": {
     "end_time": "2018-02-22T21:05:44.450430Z",
     "start_time": "2018-02-22T21:05:44.429032Z"
    }
   },
   "outputs": [
    {
     "data": {
      "image/png": "[encoded data removed]",
      "text/plain": [
       "<matplotlib.figure.Figure at 0x201061ebd0>"
      ]
     },
     "metadata": {},
     "output_type": "display_data"
    },
    {
     "data": {
      "image/png": "[encoded data removed]",
      "text/plain": [
       "<matplotlib.figure.Figure at 0x201061eb50>"
      ]
     },
     "metadata": {},
     "output_type": "display_data"
    }
   ],
   "source": [
    "# 5) Draw heatmaps for result of grid search and find best k on validation set\n",
    "    \n",
    "def draw_heatmap_knn(acc, acc_desc, k_list):\n",
    "    plt.figure(figsize = (2,4))\n",
    "    ax = sns.heatmap(acc, annot=True, fmt='.3f', yticklabels=k_list, xticklabels=[])\n",
    "    ax.collections[0].colorbar.set_label(\"accuracy\")\n",
    "    ax.set(ylabel='$k$')\n",
    "    plt.title(acc_desc + ' w.r.t $k$')\n",
    "    sns.set_style(\"whitegrid\", {'axes.grid' : False})\n",
    "    plt.show()\n",
    "train = np.asarray(train_acc_list).reshape(-1,1)\n",
    "val = np.asarray(val_acc_list).reshape(-1,1)\n",
    "draw_heatmap_knn(train, 'train accuracy', k_list)\n",
    "draw_heatmap_knn(val, 'val accuracy', k_list)"
   ]
  },
  {
   "cell_type": "code",
   "execution_count": 37,
   "metadata": {},
   "outputs": [
    {
     "name": "stdout",
     "output_type": "stream",
     "text": [
      "Best k* is 15\n",
      "with validation accuracy  [ 0.711]\n"
     ]
    }
   ],
   "source": [
    "# 5) output best k \n",
    "best_acc = max(val)\n",
    "best_k = k_list[list(val_acc_list).index(best_acc)]\n",
    "print \"Best k* is\", best_k \n",
    "print \"with validation accuracy \",best_acc"
   ]
  },
  {
   "cell_type": "code",
   "execution_count": 38,
   "metadata": {
    "ExecuteTime": {
     "end_time": "2018-02-22T21:05:45.244683Z",
     "start_time": "2018-02-22T21:05:45.197145Z"
    }
   },
   "outputs": [
    {
     "name": "stdout",
     "output_type": "stream",
     "text": [
      "('test accuracy with best k is ', 0.886)\n"
     ]
    }
   ],
   "source": [
    "# 8) Use the best k to calculate the test accuracy.\n",
    "\n",
    "classifier = KNeighborsClassifier(k=best_k)\n",
    "\n",
    "#train the classifier with training data\n",
    "classifier.fit(X_train, Y_train)\n",
    "\n",
    "# calculate the test accuracy.\n",
    "test_acc = classifier.predict(X_test,Y_test)\n"
   ]
  },
  {
   "cell_type": "code",
   "execution_count": 39,
   "metadata": {},
   "outputs": [
    {
     "name": "stdout",
     "output_type": "stream",
     "text": [
      "('test accuracy with best k is ', 0.886)\n",
      "('test error with best k is ', 0.11399999999999999)\n"
     ]
    }
   ],
   "source": [
    "print (\"test accuracy with best k is \",test_acc)\n",
    "print (\"test error with best k is \",1-test_acc)"
   ]
  }
 ],
 "metadata": {
  "kernelspec": {
   "display_name": "Python 2",
   "language": "python",
   "name": "python2"
  },
  "language_info": {
   "codemirror_mode": {
    "name": "ipython",
    "version": 2
   },
   "file_extension": ".py",
   "mimetype": "text/x-python",
   "name": "python",
   "nbconvert_exporter": "python",
   "pygments_lexer": "ipython2",
   "version": "2.7.13"
  },
  "toc": {
   "colors": {
    "hover_highlight": "#DAA520",
    "navigate_num": "#000000",
    "navigate_text": "#333333",
    "running_highlight": "#FF0000",
    "selected_highlight": "#FFD700",
    "sidebar_border": "#EEEEEE",
    "wrapper_background": "#FFFFFF"
   },
   "moveMenuLeft": true,
   "nav_menu": {
    "height": "63px",
    "width": "252px"
   },
   "navigate_menu": true,
   "number_sections": true,
   "sideBar": true,
   "threshold": 4,
   "toc_cell": false,
   "toc_section_display": "block",
   "toc_window_display": false,
   "widenNotebook": false
  }
 },
 "nbformat": 4,
 "nbformat_minor": 2
}
